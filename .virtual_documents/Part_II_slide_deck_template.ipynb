





# import all packages and set plots to be embedded inline
import numpy as np
import pandas as pd
import matplotlib.pyplot as plt
import seaborn as sb

%matplotlib inline

# suppress warnings from final output
import warnings
warnings.simplefilter("ignore")


# load in the dataset into a pandas dataframe
df = pd.read_csv('loans.csv')


























!jupyter nbconvert <Part_II_Filename>.ipynb --to slides --post serve --no-input --no-prompt






