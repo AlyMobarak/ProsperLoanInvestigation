





# import all packages and set plots to be embedded inline
import numpy as np
import pandas as pd
import matplotlib.pyplot as plt
import seaborn as sb

%matplotlib inline

# suppress warnings from final output
import warnings
warnings.simplefilter("ignore")


# load in the dataset into a pandas dataframe
loans = pd.read_csv('loans.csv')





# Checking if Status starts with past due, and then replacing it with only "Past Due" without the time period.
loans['LoanStatusApprox'] = loans['LoanStatus'].apply(lambda x: "Past Due" if x[0:8]=="Past Due" else x)
# Checking if "Cancelled" is the value, if yes sets it to null and drops the value.
loans['LoanStatusApprox'] = loans['LoanStatusApprox'].apply(lambda x: None if x=="Cancelled" else x).dropna()
# Making a new column to hold ended loans' status
loans['EndedLoansStatus'] = loans.LoanStatusApprox.apply(lambda x: None if x == "Current" else x).dropna()
# Simplifying the status
loans['EndedLoansStatus'] = loans['EndedLoansStatus'].dropna().apply(lambda x: "Success" if x in ["Completed", "FinalPaymentInProgress"] else "Fail" if x != None else None)
# Total loan counts per score
loans_per_score = loans[loans["EndedLoansStatus"].isna() == False].groupby(["ProsperScore"]).ListingKey.count()
# Counting loans in each category, then dividing by the loans per score to get a percentage relative to each score.
relative_loanstatus = loans.groupby(["ProsperScore", 'EndedLoansStatus']).ListingKey.count() / loans_per_score
relative_loanstatus = relative_loanstatus.reset_index("ProsperScore").rename(columns={"ListingKey": "Percentage"}) # Converting it into a pandas dataframe, plottable in a bar chart. Then, renamming the listingkey column used to simply count the unique number of loans to a more descriptive name.
# Setting up a cluster bar chart that represents the Prosper Score vs Fate of Loan
# Custom Legend
import matplotlib.patches as mpatches
sb.barplot(data=relative_loanstatus, x="ProsperScore", y="Percentage", hue='EndedLoansStatus', palette={"Success":"#3fc9ec", "Fail":"#657682"})
plt.xlabel("Prosper Creditworthiness Rating")
plt.ylabel("Percent of Loans")
plt.title("Prosper Score vs Fate of Loan")
plt.legend(handles=[mpatches.Patch(color='#3fc9ec', label='Contract In Tact, Success'), mpatches.Patch(color='#657682', label='Breached, Payment Failed')], title="Loan Status")
plt.show()





sb.scatterplot(data=loans, x="LoanOriginalAmount", y="MonthlyLoanPayment", hue="Term", palette=sb.color_palette("twilight"))
plt.title("Loan Amount, Term, and Monthly Payment Dynamics")
plt.xlabel("Loan Amount in US$")
plt.ylabel("Monthly Payments in US$")
plt.legend(title="Loan Period (months)")
plt.show()





"""
Function to plot a histogram

x: String of targetted column
xlabel: String of label for the x axis
title: String for the title of the plot
binsize: An integer that represents the desired binsize for optimal plot view
"""
def histplot(x, binsize, xlabel, title):
    # Histogram from Seaborn's Library.
    sb.histplot(loans, x=x, bins=np.arange(0, loans[x].max()+binsize, binsize));
    plt.xlabel(xlabel) #Setting the X label
    plt.title(title) # Setting a title
    plt.show() # Showing the plot without internal messages
histplot('BorrowerAPR', 0.01, "Borrower APR", "Distribution of Borrower APR") # Histogram in increments of 1%.
